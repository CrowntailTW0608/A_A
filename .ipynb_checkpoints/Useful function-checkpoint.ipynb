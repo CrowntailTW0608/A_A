{
 "cells": [
  {
   "cell_type": "markdown",
   "metadata": {},
   "source": [
    "# find second max "
   ]
  },
  {
   "cell_type": "code",
   "execution_count": null,
   "metadata": {},
   "outputs": [],
   "source": [
    "def second_largest(numbers):\n",
    "    count = 0\n",
    "    m1 = m2 = float('-inf')\n",
    "    for x in numbers:\n",
    "        count += 1\n",
    "        if x > m2:\n",
    "            if x >= m1:m1, m2 = x, m1            \n",
    "            else:m2 = x\n",
    "    return m2 if count >= 2 else None"
   ]
  },
  {
   "cell_type": "code",
   "execution_count": null,
   "metadata": {},
   "outputs": [],
   "source": []
  },
  {
   "cell_type": "markdown",
   "metadata": {},
   "source": [
    "# pandas_profiling DataFrame 詳細資料分析視覺化"
   ]
  },
  {
   "cell_type": "code",
   "execution_count": null,
   "metadata": {},
   "outputs": [],
   "source": [
    "import pandas as pd\n",
    "import matplotlib.pyplot as plt\n",
    "import pandas_profiling as pdp\n",
    "pd.set_option('display.max_columns', 500)\n",
    "\n",
    "from sklearn.datasets import load_boston\n",
    "\n",
    "data = load_boston()\n",
    "df_boston = pd.DataFrame(data = data.data , columns= data.feature_names)\n",
    "pdp.ProfileReport(df_boston)\n",
    "\n",
    "pfr = pdp.ProfileReport(df_boston)\n",
    "pfr.to_file('report.html')"
   ]
  },
  {
   "cell_type": "code",
   "execution_count": null,
   "metadata": {},
   "outputs": [],
   "source": []
  },
  {
   "cell_type": "markdown",
   "metadata": {},
   "source": [
    "# 月\"加減"
   ]
  },
  {
   "cell_type": "code",
   "execution_count": 1,
   "metadata": {},
   "outputs": [],
   "source": [
    "def monthdelta(d1, d2):\n",
    "    delta = 0\n",
    "    while True:\n",
    "        mdays = monthrange(d1.year, d1.month)[1]\n",
    "        d1 += timedelta(days=mdays)\n",
    "        if d1 <= d2:\n",
    "            delta += 1\n",
    "        else:\n",
    "            break\n",
    "    return delta\n",
    "   \n",
    "def monthadd(sourcedate,months):\n",
    "    month = sourcedate.month - 1 + months\n",
    "    year = sourcedate.year + month // 12\n",
    "    month = month % 12 + 1\n",
    "    day = min(sourcedate.day,monthrange(year,month)[1])\n",
    "    return date(year,month,day)"
   ]
  }
 ],
 "metadata": {
  "kernelspec": {
   "display_name": "Python 3",
   "language": "python",
   "name": "python3"
  },
  "language_info": {
   "codemirror_mode": {
    "name": "ipython",
    "version": 3
   },
   "file_extension": ".py",
   "mimetype": "text/x-python",
   "name": "python",
   "nbconvert_exporter": "python",
   "pygments_lexer": "ipython3",
   "version": "3.8.3"
  }
 },
 "nbformat": 4,
 "nbformat_minor": 4
}
